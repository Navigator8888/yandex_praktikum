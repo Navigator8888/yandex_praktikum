{
 "cells": [
  {
   "cell_type": "markdown",
   "id": "05dc07fa",
   "metadata": {},
   "source": [
    "#### Анализ текущего уровня потребительской лояльности клиентов телекоммуникационной компании\n",
    "\n",
    "Дата исследования – январь 2023 года\n",
    "\n",
    "#### Цели анализа:\n",
    "- Определить уровень лояльности клиентов\n",
    "\n",
    "- Оценить, как распределены участники опроса по городам, полу и возрасту\n",
    "\n",
    "- Выявить NPS среди всех опрошенных\n",
    "\n",
    "- Описать клиентов, которые относятся к группе cторонников"
   ]
  },
  {
   "cell_type": "code",
   "execution_count": 1,
   "id": "49df753a",
   "metadata": {
    "tags": [
     "aa81075c-062f-4de0-b5fe-14c73dc7468e"
    ]
   },
   "outputs": [],
   "source": [
    "import pandas as pd\n",
    "import numpy as np\n",
    "from sqlalchemy import create_engine"
   ]
  },
  {
   "cell_type": "code",
   "execution_count": 2,
   "id": "1dea9cbd",
   "metadata": {},
   "outputs": [],
   "source": [
    "path_to_db = '/datasets/telecomm_csi.db'\n",
    "engine = create_engine(f'sqlite:///{path_to_db}', echo = False)"
   ]
  },
  {
   "cell_type": "code",
   "execution_count": 3,
   "id": "748f0d6b",
   "metadata": {},
   "outputs": [
    {
     "data": {
      "text/html": [
       "<div>\n",
       "<style scoped>\n",
       "    .dataframe tbody tr th:only-of-type {\n",
       "        vertical-align: middle;\n",
       "    }\n",
       "\n",
       "    .dataframe tbody tr th {\n",
       "        vertical-align: top;\n",
       "    }\n",
       "\n",
       "    .dataframe thead th {\n",
       "        text-align: right;\n",
       "    }\n",
       "</style>\n",
       "<table border=\"1\" class=\"dataframe\">\n",
       "  <thead>\n",
       "    <tr style=\"text-align: right;\">\n",
       "      <th></th>\n",
       "      <th>user_id</th>\n",
       "      <th>lt_day</th>\n",
       "      <th>is_new</th>\n",
       "      <th>age</th>\n",
       "      <th>gender_segment</th>\n",
       "      <th>os_name</th>\n",
       "      <th>cpe_type_name</th>\n",
       "      <th>country</th>\n",
       "      <th>city</th>\n",
       "      <th>age_segment</th>\n",
       "      <th>traffic_segment</th>\n",
       "      <th>lifetime_segment</th>\n",
       "      <th>nps_score</th>\n",
       "      <th>nps_score_group</th>\n",
       "    </tr>\n",
       "  </thead>\n",
       "  <tbody>\n",
       "    <tr>\n",
       "      <th>0</th>\n",
       "      <td>A001A2</td>\n",
       "      <td>2320</td>\n",
       "      <td>old</td>\n",
       "      <td>45.0</td>\n",
       "      <td>мужчина</td>\n",
       "      <td>ANDROID</td>\n",
       "      <td>SMARTPHONE</td>\n",
       "      <td>Россия</td>\n",
       "      <td>Уфа</td>\n",
       "      <td>45-54</td>\n",
       "      <td>1-5</td>\n",
       "      <td>36+</td>\n",
       "      <td>10</td>\n",
       "      <td>cторонники</td>\n",
       "    </tr>\n",
       "    <tr>\n",
       "      <th>1</th>\n",
       "      <td>A001WF</td>\n",
       "      <td>2344</td>\n",
       "      <td>old</td>\n",
       "      <td>53.0</td>\n",
       "      <td>женщина</td>\n",
       "      <td>ANDROID</td>\n",
       "      <td>SMARTPHONE</td>\n",
       "      <td>Россия</td>\n",
       "      <td>Киров</td>\n",
       "      <td>45-54</td>\n",
       "      <td>1-5</td>\n",
       "      <td>36+</td>\n",
       "      <td>10</td>\n",
       "      <td>cторонники</td>\n",
       "    </tr>\n",
       "    <tr>\n",
       "      <th>2</th>\n",
       "      <td>A003Q7</td>\n",
       "      <td>467</td>\n",
       "      <td>old</td>\n",
       "      <td>57.0</td>\n",
       "      <td>женщина</td>\n",
       "      <td>ANDROID</td>\n",
       "      <td>SMARTPHONE</td>\n",
       "      <td>Россия</td>\n",
       "      <td>Москва</td>\n",
       "      <td>55-64</td>\n",
       "      <td>20-25</td>\n",
       "      <td>13-24</td>\n",
       "      <td>10</td>\n",
       "      <td>cторонники</td>\n",
       "    </tr>\n",
       "  </tbody>\n",
       "</table>\n",
       "</div>"
      ],
      "text/plain": [
       "  user_id  lt_day is_new   age gender_segment  os_name cpe_type_name country  \\\n",
       "0  A001A2    2320    old  45.0        мужчина  ANDROID    SMARTPHONE  Россия   \n",
       "1  A001WF    2344    old  53.0        женщина  ANDROID    SMARTPHONE  Россия   \n",
       "2  A003Q7     467    old  57.0        женщина  ANDROID    SMARTPHONE  Россия   \n",
       "\n",
       "     city age_segment traffic_segment lifetime_segment  nps_score  \\\n",
       "0     Уфа       45-54             1-5              36+         10   \n",
       "1   Киров       45-54             1-5              36+         10   \n",
       "2  Москва       55-64           20-25            13-24         10   \n",
       "\n",
       "  nps_score_group  \n",
       "0      cторонники  \n",
       "1      cторонники  \n",
       "2      cторонники  "
      ]
     },
     "execution_count": 3,
     "metadata": {},
     "output_type": "execute_result"
    }
   ],
   "source": [
    "query = \"\"\"\n",
    "   SELECT u.user_id,\n",
    "           u.lt_day AS lt_day,\n",
    "           CASE\n",
    "               WHEN u.lt_day < 365 THEN 'new'\n",
    "               ELSE 'old'\n",
    "           END AS is_new,\n",
    "           u.age,\n",
    "           CASE\n",
    "               WHEN u.gender_segment = 0 THEN 'женщина'\n",
    "               WHEN u.gender_segment = 1 THEN 'мужчина'\n",
    "               ELSE 'без пола'\n",
    "           END AS gender_segment,\n",
    "           u.os_name,\n",
    "           u.cpe_type_name,\n",
    "           l.country,\n",
    "           l.city,\n",
    "           SUBSTR(ags.title, 4, 5) AS age_segment,\n",
    "           SUBSTR(ts.title, 4, 8) AS traffic_segment,\n",
    "           SUBSTR(ls.title, 4, 8) AS lifetime_segment,\n",
    "           u.nps_score,\n",
    "           CASE\n",
    "               WHEN u.nps_score >= 9 THEN 'cторонники'\n",
    "               WHEN u.nps_score <= 6 THEN 'критики'\n",
    "               ELSE 'нейтралы'\n",
    "           END AS nps_score_group\n",
    "          \n",
    "    FROM user AS u\n",
    "    JOIN location AS l ON u.location_id=l.location_id\n",
    "    JOIN age_segment AS ags ON u.age_gr_id=ags.age_gr_id\n",
    "    JOIN traffic_segment AS ts ON u.tr_gr_id=ts.tr_gr_id\n",
    "    JOIN lifetime_segment AS ls ON u.lt_gr_id=ls.lt_gr_id\n",
    "    WHERE CAST(lt_day AS INTEGER) > 0;\n",
    "\"\"\"\n",
    " \n",
    "    \n",
    "    \n",
    "df = pd.read_sql(query, engine)\n",
    "df.head(3)"
   ]
  },
  {
   "cell_type": "code",
   "execution_count": 4,
   "id": "e1327b92",
   "metadata": {},
   "outputs": [],
   "source": [
    "df.to_csv('telecomm_csi_tableau.csv', index=False)"
   ]
  },
  {
   "cell_type": "code",
   "execution_count": 5,
   "id": "8f92525d",
   "metadata": {},
   "outputs": [
    {
     "name": "stdout",
     "output_type": "stream",
     "text": [
      "<class 'pandas.core.frame.DataFrame'>\n",
      "RangeIndex: 502476 entries, 0 to 502475\n",
      "Data columns (total 14 columns):\n",
      " #   Column            Non-Null Count   Dtype  \n",
      "---  ------            --------------   -----  \n",
      " 0   user_id           502476 non-null  object \n",
      " 1   lt_day            502476 non-null  int64  \n",
      " 2   is_new            502476 non-null  object \n",
      " 3   age               501939 non-null  float64\n",
      " 4   gender_segment    502476 non-null  object \n",
      " 5   os_name           502476 non-null  object \n",
      " 6   cpe_type_name     502476 non-null  object \n",
      " 7   country           502476 non-null  object \n",
      " 8   city              502476 non-null  object \n",
      " 9   age_segment       502476 non-null  object \n",
      " 10  traffic_segment   502476 non-null  object \n",
      " 11  lifetime_segment  502476 non-null  object \n",
      " 12  nps_score         502476 non-null  int64  \n",
      " 13  nps_score_group   502476 non-null  object \n",
      "dtypes: float64(1), int64(2), object(11)\n",
      "memory usage: 53.7+ MB\n"
     ]
    }
   ],
   "source": [
    "df.info()"
   ]
  },
  {
   "cell_type": "code",
   "execution_count": 6,
   "id": "327f50d3",
   "metadata": {
    "scrolled": false
   },
   "outputs": [
    {
     "data": {
      "text/plain": [
       "user_id               0\n",
       "lt_day                0\n",
       "is_new                0\n",
       "gender_segment        0\n",
       "os_name               0\n",
       "cpe_type_name         0\n",
       "country               0\n",
       "city                  0\n",
       "age_segment           0\n",
       "traffic_segment       0\n",
       "lifetime_segment      0\n",
       "nps_score             0\n",
       "nps_score_group       0\n",
       "age                 537\n",
       "dtype: int64"
      ]
     },
     "execution_count": 6,
     "metadata": {},
     "output_type": "execute_result"
    }
   ],
   "source": [
    "df.isnull().sum().sort_values()"
   ]
  },
  {
   "cell_type": "code",
   "execution_count": 7,
   "id": "69c73f6c",
   "metadata": {
    "scrolled": true
   },
   "outputs": [
    {
     "data": {
      "text/html": [
       "<div>\n",
       "<style scoped>\n",
       "    .dataframe tbody tr th:only-of-type {\n",
       "        vertical-align: middle;\n",
       "    }\n",
       "\n",
       "    .dataframe tbody tr th {\n",
       "        vertical-align: top;\n",
       "    }\n",
       "\n",
       "    .dataframe thead th {\n",
       "        text-align: right;\n",
       "    }\n",
       "</style>\n",
       "<table border=\"1\" class=\"dataframe\">\n",
       "  <thead>\n",
       "    <tr style=\"text-align: right;\">\n",
       "      <th></th>\n",
       "      <th>lifetime_segment</th>\n",
       "      <th>1</th>\n",
       "      <th>13-24</th>\n",
       "      <th>2</th>\n",
       "      <th>25-36</th>\n",
       "      <th>3</th>\n",
       "      <th>36+</th>\n",
       "      <th>4-6</th>\n",
       "      <th>7-12</th>\n",
       "    </tr>\n",
       "    <tr>\n",
       "      <th>gender_segment</th>\n",
       "      <th>age_segment</th>\n",
       "      <th></th>\n",
       "      <th></th>\n",
       "      <th></th>\n",
       "      <th></th>\n",
       "      <th></th>\n",
       "      <th></th>\n",
       "      <th></th>\n",
       "      <th></th>\n",
       "    </tr>\n",
       "  </thead>\n",
       "  <tbody>\n",
       "    <tr>\n",
       "      <th rowspan=\"8\" valign=\"top\">без пола</th>\n",
       "      <th>16-24</th>\n",
       "      <td>NaN</td>\n",
       "      <td>0.444444</td>\n",
       "      <td>0.058824</td>\n",
       "      <td>0.000000</td>\n",
       "      <td>0.500000</td>\n",
       "      <td>-0.500000</td>\n",
       "      <td>0.000000</td>\n",
       "      <td>0.571429</td>\n",
       "    </tr>\n",
       "    <tr>\n",
       "      <th>25-34</th>\n",
       "      <td>NaN</td>\n",
       "      <td>0.294118</td>\n",
       "      <td>0.380435</td>\n",
       "      <td>0.000000</td>\n",
       "      <td>0.151515</td>\n",
       "      <td>0.083333</td>\n",
       "      <td>0.489362</td>\n",
       "      <td>0.047619</td>\n",
       "    </tr>\n",
       "    <tr>\n",
       "      <th>35-44</th>\n",
       "      <td>NaN</td>\n",
       "      <td>0.095238</td>\n",
       "      <td>0.466667</td>\n",
       "      <td>0.000000</td>\n",
       "      <td>0.333333</td>\n",
       "      <td>-0.181818</td>\n",
       "      <td>0.333333</td>\n",
       "      <td>0.833333</td>\n",
       "    </tr>\n",
       "    <tr>\n",
       "      <th>45-54</th>\n",
       "      <td>NaN</td>\n",
       "      <td>-1.000000</td>\n",
       "      <td>0.769231</td>\n",
       "      <td>NaN</td>\n",
       "      <td>0.714286</td>\n",
       "      <td>-0.500000</td>\n",
       "      <td>0.500000</td>\n",
       "      <td>0.000000</td>\n",
       "    </tr>\n",
       "    <tr>\n",
       "      <th>55-64</th>\n",
       "      <td>NaN</td>\n",
       "      <td>NaN</td>\n",
       "      <td>NaN</td>\n",
       "      <td>NaN</td>\n",
       "      <td>NaN</td>\n",
       "      <td>-1.000000</td>\n",
       "      <td>1.000000</td>\n",
       "      <td>NaN</td>\n",
       "    </tr>\n",
       "    <tr>\n",
       "      <th>66 +</th>\n",
       "      <td>NaN</td>\n",
       "      <td>1.000000</td>\n",
       "      <td>NaN</td>\n",
       "      <td>0.000000</td>\n",
       "      <td>NaN</td>\n",
       "      <td>-1.000000</td>\n",
       "      <td>NaN</td>\n",
       "      <td>NaN</td>\n",
       "    </tr>\n",
       "    <tr>\n",
       "      <th>n/a</th>\n",
       "      <td>0.600000</td>\n",
       "      <td>-0.466667</td>\n",
       "      <td>-0.538462</td>\n",
       "      <td>-0.607843</td>\n",
       "      <td>-0.529412</td>\n",
       "      <td>-0.584459</td>\n",
       "      <td>-0.476190</td>\n",
       "      <td>-0.611111</td>\n",
       "    </tr>\n",
       "    <tr>\n",
       "      <th>до 16</th>\n",
       "      <td>NaN</td>\n",
       "      <td>NaN</td>\n",
       "      <td>-1.000000</td>\n",
       "      <td>NaN</td>\n",
       "      <td>0.000000</td>\n",
       "      <td>NaN</td>\n",
       "      <td>NaN</td>\n",
       "      <td>NaN</td>\n",
       "    </tr>\n",
       "    <tr>\n",
       "      <th rowspan=\"8\" valign=\"top\">женщина</th>\n",
       "      <th>16-24</th>\n",
       "      <td>NaN</td>\n",
       "      <td>0.059398</td>\n",
       "      <td>0.182390</td>\n",
       "      <td>-0.030520</td>\n",
       "      <td>0.211240</td>\n",
       "      <td>-0.104258</td>\n",
       "      <td>0.205832</td>\n",
       "      <td>0.186634</td>\n",
       "    </tr>\n",
       "    <tr>\n",
       "      <th>25-34</th>\n",
       "      <td>0.000000</td>\n",
       "      <td>0.153785</td>\n",
       "      <td>0.285943</td>\n",
       "      <td>0.087561</td>\n",
       "      <td>0.291468</td>\n",
       "      <td>-0.042019</td>\n",
       "      <td>0.274569</td>\n",
       "      <td>0.237321</td>\n",
       "    </tr>\n",
       "    <tr>\n",
       "      <th>35-44</th>\n",
       "      <td>0.333333</td>\n",
       "      <td>0.308812</td>\n",
       "      <td>0.371588</td>\n",
       "      <td>0.217884</td>\n",
       "      <td>0.400000</td>\n",
       "      <td>0.100904</td>\n",
       "      <td>0.375661</td>\n",
       "      <td>0.368573</td>\n",
       "    </tr>\n",
       "    <tr>\n",
       "      <th>45-54</th>\n",
       "      <td>1.000000</td>\n",
       "      <td>0.376032</td>\n",
       "      <td>0.536913</td>\n",
       "      <td>0.311503</td>\n",
       "      <td>0.493590</td>\n",
       "      <td>0.223342</td>\n",
       "      <td>0.417763</td>\n",
       "      <td>0.448566</td>\n",
       "    </tr>\n",
       "    <tr>\n",
       "      <th>55-64</th>\n",
       "      <td>1.000000</td>\n",
       "      <td>0.427167</td>\n",
       "      <td>0.393548</td>\n",
       "      <td>0.392430</td>\n",
       "      <td>0.540146</td>\n",
       "      <td>0.334850</td>\n",
       "      <td>0.572482</td>\n",
       "      <td>0.469546</td>\n",
       "    </tr>\n",
       "    <tr>\n",
       "      <th>66 +</th>\n",
       "      <td>NaN</td>\n",
       "      <td>0.473451</td>\n",
       "      <td>0.673913</td>\n",
       "      <td>0.387205</td>\n",
       "      <td>0.696970</td>\n",
       "      <td>0.437282</td>\n",
       "      <td>0.573913</td>\n",
       "      <td>0.544444</td>\n",
       "    </tr>\n",
       "    <tr>\n",
       "      <th>n/a</th>\n",
       "      <td>NaN</td>\n",
       "      <td>-0.333333</td>\n",
       "      <td>-1.000000</td>\n",
       "      <td>-1.000000</td>\n",
       "      <td>NaN</td>\n",
       "      <td>-0.538462</td>\n",
       "      <td>-0.500000</td>\n",
       "      <td>-1.000000</td>\n",
       "    </tr>\n",
       "    <tr>\n",
       "      <th>до 16</th>\n",
       "      <td>NaN</td>\n",
       "      <td>0.041096</td>\n",
       "      <td>0.000000</td>\n",
       "      <td>-0.092308</td>\n",
       "      <td>0.357143</td>\n",
       "      <td>-0.286765</td>\n",
       "      <td>0.058824</td>\n",
       "      <td>0.000000</td>\n",
       "    </tr>\n",
       "    <tr>\n",
       "      <th rowspan=\"8\" valign=\"top\">мужчина</th>\n",
       "      <th>16-24</th>\n",
       "      <td>NaN</td>\n",
       "      <td>0.087361</td>\n",
       "      <td>0.245045</td>\n",
       "      <td>0.019798</td>\n",
       "      <td>0.236111</td>\n",
       "      <td>-0.065762</td>\n",
       "      <td>0.271100</td>\n",
       "      <td>0.164977</td>\n",
       "    </tr>\n",
       "    <tr>\n",
       "      <th>25-34</th>\n",
       "      <td>1.000000</td>\n",
       "      <td>0.214059</td>\n",
       "      <td>0.316308</td>\n",
       "      <td>0.145153</td>\n",
       "      <td>0.359766</td>\n",
       "      <td>0.027744</td>\n",
       "      <td>0.319668</td>\n",
       "      <td>0.291300</td>\n",
       "    </tr>\n",
       "    <tr>\n",
       "      <th>35-44</th>\n",
       "      <td>0.333333</td>\n",
       "      <td>0.332435</td>\n",
       "      <td>0.450846</td>\n",
       "      <td>0.277917</td>\n",
       "      <td>0.431775</td>\n",
       "      <td>0.175038</td>\n",
       "      <td>0.449479</td>\n",
       "      <td>0.390759</td>\n",
       "    </tr>\n",
       "    <tr>\n",
       "      <th>45-54</th>\n",
       "      <td>1.000000</td>\n",
       "      <td>0.438341</td>\n",
       "      <td>0.516770</td>\n",
       "      <td>0.360275</td>\n",
       "      <td>0.584877</td>\n",
       "      <td>0.300104</td>\n",
       "      <td>0.546698</td>\n",
       "      <td>0.484736</td>\n",
       "    </tr>\n",
       "    <tr>\n",
       "      <th>55-64</th>\n",
       "      <td>NaN</td>\n",
       "      <td>0.518766</td>\n",
       "      <td>0.644828</td>\n",
       "      <td>0.475520</td>\n",
       "      <td>0.555066</td>\n",
       "      <td>0.417602</td>\n",
       "      <td>0.584660</td>\n",
       "      <td>0.583396</td>\n",
       "    </tr>\n",
       "    <tr>\n",
       "      <th>66 +</th>\n",
       "      <td>NaN</td>\n",
       "      <td>0.565394</td>\n",
       "      <td>0.540000</td>\n",
       "      <td>0.559633</td>\n",
       "      <td>0.531915</td>\n",
       "      <td>0.536269</td>\n",
       "      <td>0.537143</td>\n",
       "      <td>0.640898</td>\n",
       "    </tr>\n",
       "    <tr>\n",
       "      <th>n/a</th>\n",
       "      <td>1.000000</td>\n",
       "      <td>0.500000</td>\n",
       "      <td>NaN</td>\n",
       "      <td>-0.333333</td>\n",
       "      <td>NaN</td>\n",
       "      <td>-0.285714</td>\n",
       "      <td>NaN</td>\n",
       "      <td>1.000000</td>\n",
       "    </tr>\n",
       "    <tr>\n",
       "      <th>до 16</th>\n",
       "      <td>NaN</td>\n",
       "      <td>0.017857</td>\n",
       "      <td>0.500000</td>\n",
       "      <td>0.076923</td>\n",
       "      <td>0.111111</td>\n",
       "      <td>-0.106383</td>\n",
       "      <td>0.222222</td>\n",
       "      <td>0.200000</td>\n",
       "    </tr>\n",
       "  </tbody>\n",
       "</table>\n",
       "</div>"
      ],
      "text/plain": [
       "lifetime_segment                   1     13-24         2     25-36         3  \\\n",
       "gender_segment age_segment                                                     \n",
       "без пола       16-24             NaN  0.444444  0.058824  0.000000  0.500000   \n",
       "               25-34             NaN  0.294118  0.380435  0.000000  0.151515   \n",
       "               35-44             NaN  0.095238  0.466667  0.000000  0.333333   \n",
       "               45-54             NaN -1.000000  0.769231       NaN  0.714286   \n",
       "               55-64             NaN       NaN       NaN       NaN       NaN   \n",
       "               66 +              NaN  1.000000       NaN  0.000000       NaN   \n",
       "               n/a          0.600000 -0.466667 -0.538462 -0.607843 -0.529412   \n",
       "               до 16             NaN       NaN -1.000000       NaN  0.000000   \n",
       "женщина        16-24             NaN  0.059398  0.182390 -0.030520  0.211240   \n",
       "               25-34        0.000000  0.153785  0.285943  0.087561  0.291468   \n",
       "               35-44        0.333333  0.308812  0.371588  0.217884  0.400000   \n",
       "               45-54        1.000000  0.376032  0.536913  0.311503  0.493590   \n",
       "               55-64        1.000000  0.427167  0.393548  0.392430  0.540146   \n",
       "               66 +              NaN  0.473451  0.673913  0.387205  0.696970   \n",
       "               n/a               NaN -0.333333 -1.000000 -1.000000       NaN   \n",
       "               до 16             NaN  0.041096  0.000000 -0.092308  0.357143   \n",
       "мужчина        16-24             NaN  0.087361  0.245045  0.019798  0.236111   \n",
       "               25-34        1.000000  0.214059  0.316308  0.145153  0.359766   \n",
       "               35-44        0.333333  0.332435  0.450846  0.277917  0.431775   \n",
       "               45-54        1.000000  0.438341  0.516770  0.360275  0.584877   \n",
       "               55-64             NaN  0.518766  0.644828  0.475520  0.555066   \n",
       "               66 +              NaN  0.565394  0.540000  0.559633  0.531915   \n",
       "               n/a          1.000000  0.500000       NaN -0.333333       NaN   \n",
       "               до 16             NaN  0.017857  0.500000  0.076923  0.111111   \n",
       "\n",
       "lifetime_segment                 36+       4-6      7-12  \n",
       "gender_segment age_segment                                \n",
       "без пола       16-24       -0.500000  0.000000  0.571429  \n",
       "               25-34        0.083333  0.489362  0.047619  \n",
       "               35-44       -0.181818  0.333333  0.833333  \n",
       "               45-54       -0.500000  0.500000  0.000000  \n",
       "               55-64       -1.000000  1.000000       NaN  \n",
       "               66 +        -1.000000       NaN       NaN  \n",
       "               n/a         -0.584459 -0.476190 -0.611111  \n",
       "               до 16             NaN       NaN       NaN  \n",
       "женщина        16-24       -0.104258  0.205832  0.186634  \n",
       "               25-34       -0.042019  0.274569  0.237321  \n",
       "               35-44        0.100904  0.375661  0.368573  \n",
       "               45-54        0.223342  0.417763  0.448566  \n",
       "               55-64        0.334850  0.572482  0.469546  \n",
       "               66 +         0.437282  0.573913  0.544444  \n",
       "               n/a         -0.538462 -0.500000 -1.000000  \n",
       "               до 16       -0.286765  0.058824  0.000000  \n",
       "мужчина        16-24       -0.065762  0.271100  0.164977  \n",
       "               25-34        0.027744  0.319668  0.291300  \n",
       "               35-44        0.175038  0.449479  0.390759  \n",
       "               45-54        0.300104  0.546698  0.484736  \n",
       "               55-64        0.417602  0.584660  0.583396  \n",
       "               66 +         0.536269  0.537143  0.640898  \n",
       "               n/a         -0.285714       NaN  1.000000  \n",
       "               до 16       -0.106383  0.222222  0.200000  "
      ]
     },
     "metadata": {},
     "output_type": "display_data"
    },
    {
     "data": {
      "image/png": "[encoded data removed]",
      "text/plain": [
       "<Figure size 1080x576 with 2 Axes>"
      ]
     },
     "metadata": {
      "needs_background": "light"
     },
     "output_type": "display_data"
    }
   ],
   "source": [
    "import seaborn as sns\n",
    "import matplotlib.pyplot as plt\n",
    "d = df.assign(total_nps=lambda row: row['nps_score_group'].map({'cторонники': 1, 'нейтралы': 0, 'критики': -1}))\\\n",
    "  .pivot_table(index=['gender_segment', 'age_segment'], columns=['lifetime_segment'], values='total_nps', aggfunc='mean')\n",
    "display(d)\n",
    "plt.figure(figsize=(15,8))\n",
    "sns.heatmap(d, annot=True);"
   ]
  }
 ],
 "metadata": {
  "ExecuteTimeLog": [
   {
    "duration": 752,
    "start_time": "2021-10-03T17:40:52.731Z"
   },
   {
    "duration": 20,
    "start_time": "2021-10-03T17:40:53.486Z"
   },
   {
    "duration": 4,
    "start_time": "2021-10-03T17:41:04.638Z"
   },
   {
    "duration": 461,
    "start_time": "2021-10-03T17:41:04.912Z"
   },
   {
    "duration": 284,
    "start_time": "2021-10-03T17:41:05.376Z"
   },
   {
    "duration": 574,
    "start_time": "2021-10-06T07:55:05.029Z"
   },
   {
    "duration": 6,
    "start_time": "2021-10-06T07:55:05.605Z"
   },
   {
    "duration": 3,
    "start_time": "2021-10-06T07:55:14.685Z"
   },
   {
    "duration": 406,
    "start_time": "2021-10-06T07:55:15.522Z"
   },
   {
    "duration": 67,
    "start_time": "2021-10-06T07:55:15.929Z"
   },
   {
    "duration": 840,
    "start_time": "2021-10-07T07:54:04.647Z"
   },
   {
    "duration": 10,
    "start_time": "2021-10-07T07:54:05.490Z"
   },
   {
    "duration": 4,
    "start_time": "2021-10-07T07:54:05.544Z"
   },
   {
    "duration": 391,
    "start_time": "2021-10-07T07:54:06.237Z"
   },
   {
    "duration": 293,
    "start_time": "2021-10-07T07:54:06.654Z"
   },
   {
    "duration": 46,
    "start_time": "2023-01-09T08:55:41.852Z"
   },
   {
    "duration": 600,
    "start_time": "2023-01-09T08:55:54.551Z"
   },
   {
    "duration": 24,
    "start_time": "2023-01-09T08:55:55.154Z"
   },
   {
    "duration": 3,
    "start_time": "2023-01-09T08:55:55.179Z"
   },
   {
    "duration": 243,
    "start_time": "2023-01-09T08:55:55.183Z"
   },
   {
    "duration": 95,
    "start_time": "2023-01-09T08:55:55.429Z"
   },
   {
    "duration": 50,
    "start_time": "2023-01-09T08:55:59.505Z"
   },
   {
    "duration": 12,
    "start_time": "2023-01-09T08:56:32.611Z"
   },
   {
    "duration": 2,
    "start_time": "2023-01-09T09:25:35.819Z"
   },
   {
    "duration": 3063,
    "start_time": "2023-01-09T09:26:26.815Z"
   },
   {
    "duration": 3,
    "start_time": "2023-01-09T09:27:45.149Z"
   },
   {
    "duration": 3266,
    "start_time": "2023-01-09T09:27:46.180Z"
   },
   {
    "duration": 4,
    "start_time": "2023-01-09T10:13:16.620Z"
   },
   {
    "duration": 3,
    "start_time": "2023-01-09T10:13:19.927Z"
   },
   {
    "duration": 3271,
    "start_time": "2023-01-09T10:13:21.875Z"
   },
   {
    "duration": 561,
    "start_time": "2023-01-09T10:17:28.220Z"
   },
   {
    "duration": 8,
    "start_time": "2023-01-09T10:17:28.784Z"
   },
   {
    "duration": 3,
    "start_time": "2023-01-09T10:17:28.794Z"
   },
   {
    "duration": 3042,
    "start_time": "2023-01-09T10:17:28.798Z"
   },
   {
    "duration": 0,
    "start_time": "2023-01-09T10:17:31.842Z"
   },
   {
    "duration": 2868,
    "start_time": "2023-01-09T10:17:44.547Z"
   },
   {
    "duration": 2,
    "start_time": "2023-01-09T10:18:37.321Z"
   },
   {
    "duration": 209,
    "start_time": "2023-01-09T10:18:38.425Z"
   },
   {
    "duration": 574,
    "start_time": "2023-01-09T10:18:50.735Z"
   },
   {
    "duration": 10,
    "start_time": "2023-01-09T10:18:51.311Z"
   },
   {
    "duration": 5,
    "start_time": "2023-01-09T10:18:51.322Z"
   },
   {
    "duration": 272,
    "start_time": "2023-01-09T10:18:51.328Z"
   },
   {
    "duration": 0,
    "start_time": "2023-01-09T10:18:51.601Z"
   },
   {
    "duration": 216,
    "start_time": "2023-01-09T10:25:08.641Z"
   },
   {
    "duration": 2,
    "start_time": "2023-01-09T11:17:02.299Z"
   },
   {
    "duration": 3092,
    "start_time": "2023-01-09T11:17:03.539Z"
   },
   {
    "duration": 2,
    "start_time": "2023-01-09T11:17:49.827Z"
   },
   {
    "duration": 260,
    "start_time": "2023-01-09T11:17:55.091Z"
   },
   {
    "duration": 70,
    "start_time": "2023-01-09T11:24:29.179Z"
   },
   {
    "duration": 15,
    "start_time": "2023-01-09T11:25:13.519Z"
   },
   {
    "duration": 585,
    "start_time": "2023-01-10T07:52:02.850Z"
   },
   {
    "duration": 10,
    "start_time": "2023-01-10T07:52:04.152Z"
   },
   {
    "duration": 4327,
    "start_time": "2023-01-10T07:52:05.007Z"
   },
   {
    "duration": 3876,
    "start_time": "2023-01-10T07:52:09.336Z"
   },
   {
    "duration": 3837,
    "start_time": "2023-01-10T07:56:28.952Z"
   },
   {
    "duration": 60,
    "start_time": "2023-01-10T09:45:04.074Z"
   },
   {
    "duration": 6,
    "start_time": "2023-01-10T09:45:21.207Z"
   },
   {
    "duration": 472,
    "start_time": "2023-01-10T09:45:27.412Z"
   },
   {
    "duration": 9,
    "start_time": "2023-01-10T09:45:27.886Z"
   },
   {
    "duration": 4170,
    "start_time": "2023-01-10T09:45:27.896Z"
   },
   {
    "duration": 3958,
    "start_time": "2023-01-10T09:45:32.067Z"
   },
   {
    "duration": 272,
    "start_time": "2023-01-10T09:45:36.027Z"
   },
   {
    "duration": 269,
    "start_time": "2023-01-10T09:53:15.665Z"
   },
   {
    "duration": 65,
    "start_time": "2023-01-10T09:55:50.746Z"
   },
   {
    "duration": 546,
    "start_time": "2023-01-11T06:21:54.614Z"
   },
   {
    "duration": 9,
    "start_time": "2023-01-11T06:21:55.898Z"
   },
   {
    "duration": 5683,
    "start_time": "2023-01-11T06:21:57.138Z"
   },
   {
    "duration": 3938,
    "start_time": "2023-01-11T06:22:02.823Z"
   },
   {
    "duration": 477,
    "start_time": "2023-01-11T06:22:14.562Z"
   },
   {
    "duration": 467,
    "start_time": "2023-01-11T06:22:23.178Z"
   },
   {
    "duration": 105,
    "start_time": "2023-01-11T06:22:30.569Z"
   },
   {
    "duration": 493,
    "start_time": "2023-01-11T06:24:58.521Z"
   },
   {
    "duration": 11,
    "start_time": "2023-01-11T06:24:59.016Z"
   },
   {
    "duration": 5093,
    "start_time": "2023-01-11T06:24:59.029Z"
   },
   {
    "duration": 4049,
    "start_time": "2023-01-11T06:25:04.123Z"
   },
   {
    "duration": 479,
    "start_time": "2023-01-11T06:25:08.174Z"
   },
   {
    "duration": 611,
    "start_time": "2023-01-11T06:25:08.655Z"
   },
   {
    "duration": 107,
    "start_time": "2023-01-11T06:25:09.268Z"
   },
   {
    "duration": 446,
    "start_time": "2023-01-11T06:51:56.639Z"
   },
   {
    "duration": 4670,
    "start_time": "2023-01-11T06:52:27.294Z"
   },
   {
    "duration": 4533,
    "start_time": "2023-01-11T06:52:31.966Z"
   },
   {
    "duration": 51,
    "start_time": "2023-01-11T16:29:29.086Z"
   },
   {
    "duration": 5,
    "start_time": "2023-01-11T16:29:36.638Z"
   },
   {
    "duration": 525,
    "start_time": "2023-01-11T16:29:57.148Z"
   },
   {
    "duration": 56,
    "start_time": "2023-01-11T16:29:57.675Z"
   },
   {
    "duration": 5021,
    "start_time": "2023-01-11T16:29:57.733Z"
   },
   {
    "duration": 4462,
    "start_time": "2023-01-11T16:30:02.756Z"
   },
   {
    "duration": 451,
    "start_time": "2023-01-11T16:30:07.220Z"
   },
   {
    "duration": 849,
    "start_time": "2023-01-11T16:30:07.673Z"
   },
   {
    "duration": 105,
    "start_time": "2023-01-11T16:30:08.524Z"
   },
   {
    "duration": 343,
    "start_time": "2023-01-11T16:30:08.631Z"
   },
   {
    "duration": 347,
    "start_time": "2023-01-11T16:30:32.169Z"
   },
   {
    "duration": 295,
    "start_time": "2023-01-11T16:30:41.094Z"
   },
   {
    "duration": 497,
    "start_time": "2023-01-16T07:08:10.744Z"
   },
   {
    "duration": 22,
    "start_time": "2023-01-16T07:08:11.243Z"
   },
   {
    "duration": 5420,
    "start_time": "2023-01-16T07:08:11.266Z"
   },
   {
    "duration": 4445,
    "start_time": "2023-01-16T07:08:16.687Z"
   },
   {
    "duration": 471,
    "start_time": "2023-01-16T07:08:21.134Z"
   },
   {
    "duration": 752,
    "start_time": "2023-01-16T07:08:21.607Z"
   },
   {
    "duration": 537,
    "start_time": "2023-01-16T16:02:52.077Z"
   },
   {
    "duration": 19,
    "start_time": "2023-01-16T16:02:52.616Z"
   },
   {
    "duration": 5273,
    "start_time": "2023-01-16T16:02:52.637Z"
   },
   {
    "duration": 5390,
    "start_time": "2023-01-16T16:02:57.912Z"
   },
   {
    "duration": 468,
    "start_time": "2023-01-16T16:03:03.306Z"
   },
   {
    "duration": 815,
    "start_time": "2023-01-16T16:03:03.776Z"
   },
   {
    "duration": 2714,
    "start_time": "2023-01-16T16:12:24.635Z"
   },
   {
    "duration": 1983,
    "start_time": "2023-01-16T16:12:35.839Z"
   },
   {
    "duration": 469,
    "start_time": "2023-01-18T07:33:27.302Z"
   },
   {
    "duration": 9,
    "start_time": "2023-01-18T07:33:27.773Z"
   },
   {
    "duration": 5550,
    "start_time": "2023-01-18T07:33:27.784Z"
   },
   {
    "duration": 4246,
    "start_time": "2023-01-18T07:33:33.336Z"
   },
   {
    "duration": 522,
    "start_time": "2023-01-18T07:33:37.583Z"
   },
   {
    "duration": 851,
    "start_time": "2023-01-18T07:33:38.107Z"
   },
   {
    "duration": 3028,
    "start_time": "2023-01-18T07:33:38.960Z"
   },
   {
    "duration": 466,
    "start_time": "2023-01-18T07:57:46.228Z"
   },
   {
    "duration": 9,
    "start_time": "2023-01-18T07:57:46.696Z"
   },
   {
    "duration": 5261,
    "start_time": "2023-01-18T07:57:46.707Z"
   },
   {
    "duration": 4259,
    "start_time": "2023-01-18T07:57:51.969Z"
   },
   {
    "duration": 547,
    "start_time": "2023-01-18T07:57:56.231Z"
   },
   {
    "duration": 831,
    "start_time": "2023-01-18T07:57:56.781Z"
   },
   {
    "duration": 2614,
    "start_time": "2023-01-18T07:57:57.614Z"
   },
   {
    "duration": 535,
    "start_time": "2023-01-18T12:37:03.516Z"
   },
   {
    "duration": 21,
    "start_time": "2023-01-18T12:37:04.053Z"
   },
   {
    "duration": 5824,
    "start_time": "2023-01-18T12:37:04.076Z"
   },
   {
    "duration": 4259,
    "start_time": "2023-01-18T12:37:09.913Z"
   },
   {
    "duration": 545,
    "start_time": "2023-01-18T12:37:14.175Z"
   },
   {
    "duration": 890,
    "start_time": "2023-01-18T12:37:14.722Z"
   },
   {
    "duration": 3195,
    "start_time": "2023-01-18T12:37:15.614Z"
   },
   {
    "duration": 2054,
    "start_time": "2023-01-18T12:37:41.175Z"
   },
   {
    "duration": 557,
    "start_time": "2023-01-19T05:44:23.120Z"
   },
   {
    "duration": 25,
    "start_time": "2023-01-19T05:44:23.679Z"
   },
   {
    "duration": 5582,
    "start_time": "2023-01-19T05:44:23.706Z"
   },
   {
    "duration": 4050,
    "start_time": "2023-01-19T05:44:29.289Z"
   },
   {
    "duration": 556,
    "start_time": "2023-01-19T05:44:33.340Z"
   },
   {
    "duration": 862,
    "start_time": "2023-01-19T05:44:33.898Z"
   },
   {
    "duration": 3178,
    "start_time": "2023-01-19T05:44:34.762Z"
   },
   {
    "duration": 509,
    "start_time": "2023-01-19T05:56:50.312Z"
   },
   {
    "duration": 8,
    "start_time": "2023-01-19T05:56:50.823Z"
   },
   {
    "duration": 5287,
    "start_time": "2023-01-19T05:56:50.833Z"
   },
   {
    "duration": 4165,
    "start_time": "2023-01-19T05:56:56.122Z"
   },
   {
    "duration": 555,
    "start_time": "2023-01-19T05:57:00.289Z"
   },
   {
    "duration": 869,
    "start_time": "2023-01-19T05:57:00.846Z"
   },
   {
    "duration": 2832,
    "start_time": "2023-01-19T05:57:01.717Z"
   },
   {
    "duration": 6,
    "start_time": "2023-01-19T05:57:10.012Z"
   },
   {
    "duration": 50,
    "start_time": "2023-01-19T05:57:15.885Z"
   },
   {
    "duration": 346,
    "start_time": "2023-01-19T05:57:19.894Z"
   }
  ],
  "kernelspec": {
   "display_name": "Python 3 (ipykernel)",
   "language": "python",
   "name": "python3"
  },
  "language_info": {
   "codemirror_mode": {
    "name": "ipython",
    "version": 3
   },
   "file_extension": ".py",
   "mimetype": "text/x-python",
   "name": "python",
   "nbconvert_exporter": "python",
   "pygments_lexer": "ipython3",
   "version": "3.9.12"
  },
  "toc": {
   "base_numbering": 1,
   "nav_menu": {},
   "number_sections": true,
   "sideBar": true,
   "skip_h1_title": true,
   "title_cell": "Table of Contents",
   "title_sidebar": "Contents",
   "toc_cell": false,
   "toc_position": {},
   "toc_section_display": true,
   "toc_window_display": false
  }
 },
 "nbformat": 4,
 "nbformat_minor": 5
}
